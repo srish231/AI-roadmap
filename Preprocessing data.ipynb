{
  "nbformat": 4,
  "nbformat_minor": 0,
  "metadata": {
    "colab": {
      "provenance": [],
      "authorship_tag": "ABX9TyNupHdikZUhdZ/IslM0MMJc",
      "include_colab_link": true
    },
    "kernelspec": {
      "name": "python3",
      "display_name": "Python 3"
    },
    "language_info": {
      "name": "python"
    }
  },
  "cells": [
    {
      "cell_type": "markdown",
      "metadata": {
        "id": "view-in-github",
        "colab_type": "text"
      },
      "source": [
        "<a href=\"https://colab.research.google.com/github/srish231/AI-roadmap/blob/main/Preprocessing%20data.ipynb\" target=\"_parent\"><img src=\"https://colab.research.google.com/assets/colab-badge.svg\" alt=\"Open In Colab\"/></a>"
      ]
    },
    {
      "cell_type": "code",
      "execution_count": null,
      "metadata": {
        "colab": {
          "base_uri": "https://localhost:8080/"
        },
        "id": "hMBmth3vbLYt",
        "outputId": "bc0eaaa3-6fc8-43be-da07-e54b941d70fa"
      },
      "outputs": [
        {
          "output_type": "stream",
          "name": "stderr",
          "text": [
            "[nltk_data] Downloading package punkt to /root/nltk_data...\n",
            "[nltk_data]   Package punkt is already up-to-date!\n",
            "[nltk_data] Downloading package stopwords to /root/nltk_data...\n",
            "[nltk_data]   Package stopwords is already up-to-date!\n"
          ]
        },
        {
          "output_type": "stream",
          "name": "stdout",
          "text": [
            "                                                text  \\\n",
            "0            Hello! 😊 I am applying for a home loan.   \n",
            "1  Visit https://loans.example.com to check eligi...   \n",
            "2          I need help with EMI payment issues. <br>   \n",
            "3  My PAN is ABCDE1234F and Aadhaar is 1234-5678-...   \n",
            "4      Why was my loan rejected? Please explain    .   \n",
            "\n",
            "                             cleaned_tokens  \n",
            "0                [hello, apply, home, loan]  \n",
            "1               [visit, check, eligibility]  \n",
            "2         [need, help, emi, payment, issue]  \n",
            "3  [pan, abcde1234f, aadhaar, 123456789012]  \n",
            "4           [loan, reject, please, explain]  \n"
          ]
        }
      ],
      "source": [
        "import pandas as pd\n",
        "import re\n",
        "import string\n",
        "import nltk\n",
        "import spacy\n",
        "from nltk.corpus import stopwords\n",
        "from nltk.tokenize import word_tokenize\n",
        "from nltk.stem import PorterStemmer\n",
        "\n",
        "# Download necessary NLTK data\n",
        "nltk.download('punkt')\n",
        "nltk.download('stopwords')\n",
        "\n",
        "# Load stopwords and spaCy model\n",
        "stop_words = set(stopwords.words(\"english\"))\n",
        "stemmer = PorterStemmer()\n",
        "nlp = spacy.load(\"en_core_web_sm\")\n",
        "\n",
        "# ---------------------- Sample DataFrame ----------------------\n",
        "data = {\n",
        "    'text': [\n",
        "        \"Hello! 😊 I am applying for a home loan.\",\n",
        "        \"Visit https://loans.example.com to check eligibility!!!\",\n",
        "        \"I need help with EMI payment issues. <br>\",\n",
        "        \"My PAN is ABCDE1234F and Aadhaar is 1234-5678-9012\",\n",
        "        \"Why was my loan rejected? Please explain    .\"\n",
        "    ]\n",
        "}\n",
        "\n",
        "df = pd.DataFrame(data)\n",
        "\n",
        "# ---------------------- Cleaning Function ----------------------\n",
        "def clean_text(text):\n",
        "    text = text.lower()                                                 #lowercase\n",
        "    text = re.sub(r'https?://\\S+|www\\.\\S+', '', text)                   #remove urls\n",
        "    text = re.sub(r'<.*?>', '', text)                                   #remove HTML tags\n",
        "    text = re.sub(r'[^\\x00-\\x7F]+', '', text)                           #remove emojies/non-ASCII\n",
        "    text = text.translate(str.maketrans('', '', string.punctuation))    #remove punctuation\n",
        "    # text = re.sub(r'\\d+', '', text)                                     #remove digits\n",
        "    text = re.sub(r'\\s+', ' ', text).strip()                            #Remove extra spaces\n",
        "    return text\n",
        "\n",
        "# ---------------------- Full Preprocessing Function ----------------------\n",
        "def preprocess(text):\n",
        "    cleaned = clean_text(text)\n",
        "    tokens = word_tokenize(cleaned)\n",
        "    filtered = [word for word in tokens if word not in stop_words]\n",
        "    # stemmed = [stemmer.stem(word) for word in filtered]\n",
        "    doc = nlp(\" \".join(filtered))\n",
        "    lemmatized = [token.lemma_ for token in doc]\n",
        "    return lemmatized\n",
        "\n",
        "# ---------------------- Apply to DataFrame ----------------------\n",
        "df['cleaned_tokens'] = df['text'].apply(preprocess)\n",
        "\n",
        "# ---------------------- Result ----------------------\n",
        "print(df[['text', 'cleaned_tokens']])"
      ]
    }
  ]
}